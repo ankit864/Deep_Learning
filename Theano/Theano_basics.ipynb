{
 "cells": [
  {
   "cell_type": "markdown",
   "metadata": {},
   "source": [
    "## Theano basics"
   ]
  },
  {
   "cell_type": "code",
   "execution_count": 26,
   "metadata": {
    "collapsed": true
   },
   "outputs": [],
   "source": [
    "import theano \n",
    "import theano.tensor as T\n",
    "from IPython.display import SVG\n",
    "import numpy as np"
   ]
  },
  {
   "cell_type": "markdown",
   "metadata": {},
   "source": [
    "### Variables"
   ]
  },
  {
   "cell_type": "code",
   "execution_count": 3,
   "metadata": {
    "collapsed": false
   },
   "outputs": [
    {
     "data": {
      "text/plain": [
       "<TensorType(int64, scalar)>"
      ]
     },
     "execution_count": 3,
     "metadata": {},
     "output_type": "execute_result"
    }
   ],
   "source": [
    "x = T.lscalar()\n",
    "x"
   ]
  },
  {
   "cell_type": "code",
   "execution_count": 7,
   "metadata": {
    "collapsed": false
   },
   "outputs": [
    {
     "data": {
      "text/plain": [
       "theano.tensor.var.TensorVariable"
      ]
     },
     "execution_count": 7,
     "metadata": {},
     "output_type": "execute_result"
    }
   ],
   "source": [
    "y = 3*x + 3\n",
    "type(y)"
   ]
  },
  {
   "cell_type": "code",
   "execution_count": 8,
   "metadata": {
    "collapsed": false
   },
   "outputs": [
    {
     "data": {
      "text/plain": [
       "Elemwise{add,no_inplace}.0"
      ]
     },
     "execution_count": 8,
     "metadata": {},
     "output_type": "execute_result"
    }
   ],
   "source": [
    "y"
   ]
  },
  {
   "cell_type": "code",
   "execution_count": 9,
   "metadata": {
    "collapsed": false
   },
   "outputs": [
    {
     "data": {
      "text/plain": [
       "'((TensorConstant{3} * <TensorType(int64, scalar)>) + TensorConstant{3})'"
      ]
     },
     "execution_count": 9,
     "metadata": {},
     "output_type": "execute_result"
    }
   ],
   "source": [
    "theano.pprint(y)"
   ]
  },
  {
   "cell_type": "code",
   "execution_count": 10,
   "metadata": {
    "collapsed": false
   },
   "outputs": [
    {
     "name": "stdout",
     "output_type": "stream",
     "text": [
      "Elemwise{add,no_inplace} [id A] ''   \n",
      " |Elemwise{mul,no_inplace} [id B] ''   \n",
      " | |TensorConstant{3} [id C]\n",
      " | |<TensorType(int64, scalar)> [id D]\n",
      " |TensorConstant{3} [id C]\n"
     ]
    }
   ],
   "source": [
    "theano.printing.debugprint(y)"
   ]
  },
  {
   "cell_type": "code",
   "execution_count": 13,
   "metadata": {
    "collapsed": false
   },
   "outputs": [
    {
     "data": {
      "image/svg+xml": [
       "<svg height=\"291pt\" viewBox=\"0.00 0.00 370.00 291.00\" width=\"370pt\" xmlns=\"http://www.w3.org/2000/svg\" xmlns:xlink=\"http://www.w3.org/1999/xlink\">\n",
       "<g class=\"graph\" id=\"graph0\" transform=\"scale(1 1) rotate(0) translate(4 287)\">\n",
       "<title>G</title>\n",
       "<polygon fill=\"white\" points=\"-4,4 -4,-287 366,-287 366,4 -4,4\" stroke=\"none\"/>\n",
       "<!-- 140669139941456 -->\n",
       "<g class=\"node\" id=\"node1\"><title>140669139941456</title>\n",
       "<ellipse cx=\"228\" cy=\"-178\" fill=\"#ffaabb\" rx=\"109.681\" ry=\"18\" stroke=\"black\"/>\n",
       "<text font-family=\"Times,serif\" font-size=\"14.00\" text-anchor=\"middle\" x=\"228\" y=\"-174.3\">Elemwise{mul,no_inplace}</text>\n",
       "</g>\n",
       "<!-- 140669139941712 -->\n",
       "<g class=\"node\" id=\"node4\"><title>140669139941712</title>\n",
       "<ellipse cx=\"135\" cy=\"-91\" fill=\"#ffaabb\" rx=\"108.581\" ry=\"18\" stroke=\"black\"/>\n",
       "<text font-family=\"Times,serif\" font-size=\"14.00\" text-anchor=\"middle\" x=\"135\" y=\"-87.3\">Elemwise{add,no_inplace}</text>\n",
       "</g>\n",
       "<!-- 140669139941456&#45;&gt;140669139941712 -->\n",
       "<g class=\"edge\" id=\"edge3\"><title>140669139941456-&gt;140669139941712</title>\n",
       "<path d=\"M209.626,-160.207C195.742,-147.517 176.5,-129.93 161.032,-115.793\" fill=\"none\" stroke=\"black\"/>\n",
       "<polygon fill=\"black\" points=\"163.078,-112.921 153.336,-108.758 158.356,-118.088 163.078,-112.921\" stroke=\"black\"/>\n",
       "<text font-family=\"Times,serif\" font-size=\"14.00\" text-anchor=\"middle\" x=\"264\" y=\"-130.8\">0 TensorType(int64, scalar)</text>\n",
       "</g>\n",
       "<!-- 140669139943312 -->\n",
       "<g class=\"node\" id=\"node2\"><title>140669139943312</title>\n",
       "<polygon fill=\"green\" points=\"186,-283 1.42109e-14,-283 1.42109e-14,-247 186,-247 186,-283\" stroke=\"black\"/>\n",
       "<text font-family=\"Times,serif\" font-size=\"14.00\" text-anchor=\"middle\" x=\"93\" y=\"-261.3\">val=3 TensorType(int8, scalar)</text>\n",
       "</g>\n",
       "<!-- 140669139943312&#45;&gt;140669139941456 -->\n",
       "<g class=\"edge\" id=\"edge1\"><title>140669139943312-&gt;140669139941456</title>\n",
       "<path d=\"M120.319,-246.799C141.268,-233.609 170.336,-215.307 192.991,-201.043\" fill=\"none\" stroke=\"black\"/>\n",
       "<polygon fill=\"black\" points=\"195.043,-203.887 201.64,-195.597 191.313,-197.963 195.043,-203.887\" stroke=\"black\"/>\n",
       "<text font-family=\"Times,serif\" font-size=\"14.00\" text-anchor=\"middle\" x=\"172.5\" y=\"-217.8\">0</text>\n",
       "</g>\n",
       "<!-- 140669139943312&#45;&gt;140669139941712 -->\n",
       "<g class=\"edge\" id=\"edge4\"><title>140669139943312-&gt;140669139941712</title>\n",
       "<path d=\"M92.5918,-246.731C92.5285,-225.817 93.8099,-189.701 102,-160 106.031,-145.383 113.146,-130.108 119.74,-117.747\" fill=\"none\" stroke=\"black\"/>\n",
       "<polygon fill=\"black\" points=\"122.844,-119.366 124.621,-108.921 116.718,-115.978 122.844,-119.366\" stroke=\"black\"/>\n",
       "<text font-family=\"Times,serif\" font-size=\"14.00\" text-anchor=\"middle\" x=\"105.5\" y=\"-174.3\">1</text>\n",
       "</g>\n",
       "<!-- 140669139943376 -->\n",
       "<g class=\"node\" id=\"node3\"><title>140669139943376</title>\n",
       "<polygon fill=\"green\" points=\"362,-283 204,-283 204,-247 362,-247 362,-283\" stroke=\"black\"/>\n",
       "<text font-family=\"Times,serif\" font-size=\"14.00\" text-anchor=\"middle\" x=\"283\" y=\"-261.3\">TensorType(int64, scalar)</text>\n",
       "</g>\n",
       "<!-- 140669139943376&#45;&gt;140669139941456 -->\n",
       "<g class=\"edge\" id=\"edge2\"><title>140669139943376-&gt;140669139941456</title>\n",
       "<path d=\"M271.87,-246.799C264.042,-234.702 253.433,-218.305 244.608,-204.667\" fill=\"none\" stroke=\"black\"/>\n",
       "<polygon fill=\"black\" points=\"247.485,-202.67 239.114,-196.175 241.608,-206.473 247.485,-202.67\" stroke=\"black\"/>\n",
       "<text font-family=\"Times,serif\" font-size=\"14.00\" text-anchor=\"middle\" x=\"262.5\" y=\"-217.8\">1</text>\n",
       "</g>\n",
       "<!-- 140669139941776 -->\n",
       "<g class=\"node\" id=\"node5\"><title>140669139941776</title>\n",
       "<polygon fill=\"blue\" points=\"214,-36 56,-36 56,-0 214,-0 214,-36\" stroke=\"black\"/>\n",
       "<text font-family=\"Times,serif\" font-size=\"14.00\" text-anchor=\"middle\" x=\"135\" y=\"-14.3\">TensorType(int64, scalar)</text>\n",
       "</g>\n",
       "<!-- 140669139941712&#45;&gt;140669139941776 -->\n",
       "<g class=\"edge\" id=\"edge5\"><title>140669139941712-&gt;140669139941776</title>\n",
       "<path d=\"M135,-72.8129C135,-64.7895 135,-55.0475 135,-46.0691\" fill=\"none\" stroke=\"black\"/>\n",
       "<polygon fill=\"black\" points=\"138.5,-46.0288 135,-36.0288 131.5,-46.0289 138.5,-46.0288\" stroke=\"black\"/>\n",
       "</g>\n",
       "</g>\n",
       "</svg>"
      ],
      "text/plain": [
       "<IPython.core.display.SVG object>"
      ]
     },
     "execution_count": 13,
     "metadata": {},
     "output_type": "execute_result"
    }
   ],
   "source": [
    "SVG(theano.printing.pydotprint(y,return_image=True,format='svg'))"
   ]
  },
  {
   "cell_type": "markdown",
   "metadata": {},
   "source": [
    "### Evaluating expression"
   ]
  },
  {
   "cell_type": "code",
   "execution_count": 14,
   "metadata": {
    "collapsed": false
   },
   "outputs": [
    {
     "data": {
      "text/plain": [
       "array(12)"
      ]
     },
     "execution_count": 14,
     "metadata": {},
     "output_type": "execute_result"
    }
   ],
   "source": [
    "y.eval({x: 3})"
   ]
  },
  {
   "cell_type": "markdown",
   "metadata": {},
   "source": [
    "compiling the function"
   ]
  },
  {
   "cell_type": "code",
   "execution_count": 15,
   "metadata": {
    "collapsed": true
   },
   "outputs": [],
   "source": [
    "f = theano.function([x],y)"
   ]
  },
  {
   "cell_type": "code",
   "execution_count": 16,
   "metadata": {
    "collapsed": false
   },
   "outputs": [
    {
     "data": {
      "text/plain": [
       "array(12)"
      ]
     },
     "execution_count": 16,
     "metadata": {},
     "output_type": "execute_result"
    }
   ],
   "source": [
    "f(3)"
   ]
  },
  {
   "cell_type": "code",
   "execution_count": 17,
   "metadata": {
    "collapsed": false
   },
   "outputs": [
    {
     "data": {
      "image/svg+xml": [
       "<svg height=\"204pt\" viewBox=\"0.00 0.00 377.50 204.00\" width=\"378pt\" xmlns=\"http://www.w3.org/2000/svg\" xmlns:xlink=\"http://www.w3.org/1999/xlink\">\n",
       "<g class=\"graph\" id=\"graph0\" transform=\"scale(1 1) rotate(0) translate(4 200)\">\n",
       "<title>G</title>\n",
       "<polygon fill=\"white\" points=\"-4,4 -4,-200 373.5,-200 373.5,4 -4,4\" stroke=\"none\"/>\n",
       "<!-- 140669129000016 -->\n",
       "<g class=\"node\" id=\"node1\"><title>140669129000016</title>\n",
       "<ellipse cx=\"193.5\" cy=\"-91\" fill=\"#ffaabb\" rx=\"153.273\" ry=\"18\" stroke=\"black\"/>\n",
       "<text font-family=\"Times,serif\" font-size=\"14.00\" text-anchor=\"middle\" x=\"193.5\" y=\"-87.3\">Elemwise{Composite{(i0 + (i0 * i1))}}</text>\n",
       "</g>\n",
       "<!-- 140669129000208 -->\n",
       "<g class=\"node\" id=\"node4\"><title>140669129000208</title>\n",
       "<polygon fill=\"blue\" points=\"272.5,-36 114.5,-36 114.5,-0 272.5,-0 272.5,-36\" stroke=\"black\"/>\n",
       "<text font-family=\"Times,serif\" font-size=\"14.00\" text-anchor=\"middle\" x=\"193.5\" y=\"-14.3\">TensorType(int64, scalar)</text>\n",
       "</g>\n",
       "<!-- 140669129000016&#45;&gt;140669129000208 -->\n",
       "<g class=\"edge\" id=\"edge3\"><title>140669129000016-&gt;140669129000208</title>\n",
       "<path d=\"M193.5,-72.8129C193.5,-64.7895 193.5,-55.0475 193.5,-46.0691\" fill=\"none\" stroke=\"black\"/>\n",
       "<polygon fill=\"black\" points=\"197,-46.0288 193.5,-36.0288 190,-46.0289 197,-46.0288\" stroke=\"black\"/>\n",
       "</g>\n",
       "<!-- 140669131508240 -->\n",
       "<g class=\"node\" id=\"node2\"><title>140669131508240</title>\n",
       "<polygon fill=\"green\" points=\"193,-196 0,-196 0,-160 193,-160 193,-196\" stroke=\"black\"/>\n",
       "<text font-family=\"Times,serif\" font-size=\"14.00\" text-anchor=\"middle\" x=\"96.5\" y=\"-174.3\">val=3 TensorType(int64, scalar)</text>\n",
       "</g>\n",
       "<!-- 140669131508240&#45;&gt;140669129000016 -->\n",
       "<g class=\"edge\" id=\"edge1\"><title>140669131508240-&gt;140669129000016</title>\n",
       "<path d=\"M116.129,-159.799C130.555,-147.158 150.337,-129.823 166.288,-115.846\" fill=\"none\" stroke=\"black\"/>\n",
       "<polygon fill=\"black\" points=\"169.017,-118.108 174.231,-108.885 164.403,-112.844 169.017,-118.108\" stroke=\"black\"/>\n",
       "<text font-family=\"Times,serif\" font-size=\"14.00\" text-anchor=\"middle\" x=\"155\" y=\"-130.8\">0</text>\n",
       "</g>\n",
       "<!-- 140669131422352 -->\n",
       "<g class=\"node\" id=\"node3\"><title>140669131422352</title>\n",
       "<polygon fill=\"green\" points=\"369.5,-196 211.5,-196 211.5,-160 369.5,-160 369.5,-196\" stroke=\"black\"/>\n",
       "<text font-family=\"Times,serif\" font-size=\"14.00\" text-anchor=\"middle\" x=\"290.5\" y=\"-174.3\">TensorType(int64, scalar)</text>\n",
       "</g>\n",
       "<!-- 140669131422352&#45;&gt;140669129000016 -->\n",
       "<g class=\"edge\" id=\"edge2\"><title>140669131422352-&gt;140669129000016</title>\n",
       "<path d=\"M270.871,-159.799C256.445,-147.158 236.663,-129.823 220.712,-115.846\" fill=\"none\" stroke=\"black\"/>\n",
       "<polygon fill=\"black\" points=\"222.597,-112.844 212.769,-108.885 217.983,-118.108 222.597,-112.844\" stroke=\"black\"/>\n",
       "<text font-family=\"Times,serif\" font-size=\"14.00\" text-anchor=\"middle\" x=\"252\" y=\"-130.8\">1</text>\n",
       "</g>\n",
       "</g>\n",
       "</svg>"
      ],
      "text/plain": [
       "<IPython.core.display.SVG object>"
      ]
     },
     "execution_count": 17,
     "metadata": {},
     "output_type": "execute_result"
    }
   ],
   "source": [
    "SVG(theano.printing.pydotprint(f,return_image=True, format='svg'))"
   ]
  },
  {
   "cell_type": "markdown",
   "metadata": {},
   "source": [
    "#### various tensor types"
   ]
  },
  {
   "cell_type": "code",
   "execution_count": 18,
   "metadata": {
    "collapsed": false
   },
   "outputs": [
    {
     "data": {
      "text/plain": [
       "<TensorType(float64, vector)>"
      ]
     },
     "execution_count": 18,
     "metadata": {},
     "output_type": "execute_result"
    }
   ],
   "source": [
    "x = T.vector()\n",
    "x"
   ]
  },
  {
   "cell_type": "code",
   "execution_count": 19,
   "metadata": {
    "collapsed": false
   },
   "outputs": [
    {
     "data": {
      "text/plain": [
       "<TensorType(float64, matrix)>"
      ]
     },
     "execution_count": 19,
     "metadata": {},
     "output_type": "execute_result"
    }
   ],
   "source": [
    "x = T.matrix()\n",
    "x"
   ]
  },
  {
   "cell_type": "code",
   "execution_count": 20,
   "metadata": {
    "collapsed": false
   },
   "outputs": [
    {
     "data": {
      "text/plain": [
       "<TensorType(float64, 3D)>"
      ]
     },
     "execution_count": 20,
     "metadata": {},
     "output_type": "execute_result"
    }
   ],
   "source": [
    "\n",
    "x = T.tensor3()\n",
    "x"
   ]
  },
  {
   "cell_type": "code",
   "execution_count": 21,
   "metadata": {
    "collapsed": false
   },
   "outputs": [
    {
     "data": {
      "text/plain": [
       "<TensorType(float64, 4D)>"
      ]
     },
     "execution_count": 21,
     "metadata": {},
     "output_type": "execute_result"
    }
   ],
   "source": [
    "x = T.tensor4()\n",
    "x"
   ]
  },
  {
   "cell_type": "markdown",
   "metadata": {},
   "source": [
    "## Gradient"
   ]
  },
  {
   "cell_type": "code",
   "execution_count": 22,
   "metadata": {
    "collapsed": true
   },
   "outputs": [],
   "source": [
    "x = T.scalar()\n",
    "y = T.log(x)"
   ]
  },
  {
   "cell_type": "code",
   "execution_count": 23,
   "metadata": {
    "collapsed": true
   },
   "outputs": [],
   "source": [
    "gradient = T.grad(y,x)"
   ]
  },
  {
   "cell_type": "code",
   "execution_count": 25,
   "metadata": {
    "collapsed": false
   },
   "outputs": [
    {
     "data": {
      "text/plain": [
       "array(0.5)"
      ]
     },
     "execution_count": 25,
     "metadata": {},
     "output_type": "execute_result"
    }
   ],
   "source": [
    "gradient.eval({x:2}) #log x gradient will be 1/x so 1/2 is 0.5"
   ]
  },
  {
   "cell_type": "markdown",
   "metadata": {},
   "source": [
    "## shared variable \n",
    "### symbolic + storage "
   ]
  },
  {
   "cell_type": "code",
   "execution_count": 27,
   "metadata": {
    "collapsed": true
   },
   "outputs": [],
   "source": [
    "x =  theano.shared(np.zeros((2,3),dtype = theano.config.floatX))"
   ]
  },
  {
   "cell_type": "code",
   "execution_count": 28,
   "metadata": {
    "collapsed": false
   },
   "outputs": [
    {
     "data": {
      "text/plain": [
       "<TensorType(float64, matrix)>"
      ]
     },
     "execution_count": 28,
     "metadata": {},
     "output_type": "execute_result"
    }
   ],
   "source": [
    "x"
   ]
  },
  {
   "cell_type": "code",
   "execution_count": 31,
   "metadata": {
    "collapsed": false
   },
   "outputs": [
    {
     "name": "stdout",
     "output_type": "stream",
     "text": [
      "(2, 3)\n",
      "[[ 0.  0.  0.]\n",
      " [ 0.  0.  0.]]\n"
     ]
    }
   ],
   "source": [
    "# printting value \n",
    "values = x.get_value(x)\n",
    "print values.shape\n",
    "print values"
   ]
  },
  {
   "cell_type": "code",
   "execution_count": 33,
   "metadata": {
    "collapsed": false
   },
   "outputs": [],
   "source": [
    "x.set_value(values)"
   ]
  },
  {
   "cell_type": "code",
   "execution_count": 38,
   "metadata": {
    "collapsed": false
   },
   "outputs": [
    {
     "data": {
      "text/plain": [
       "Elemwise{pow,no_inplace}.0"
      ]
     },
     "execution_count": 38,
     "metadata": {},
     "output_type": "execute_result"
    }
   ],
   "source": [
    "(x+2)**2"
   ]
  },
  {
   "cell_type": "code",
   "execution_count": 39,
   "metadata": {
    "collapsed": false
   },
   "outputs": [
    {
     "data": {
      "text/plain": [
       "array([[ 4.,  4.,  4.],\n",
       "       [ 4.,  4.,  4.]])"
      ]
     },
     "execution_count": 39,
     "metadata": {},
     "output_type": "execute_result"
    }
   ],
   "source": [
    "((x+2)**2).eval()"
   ]
  },
  {
   "cell_type": "code",
   "execution_count": 41,
   "metadata": {
    "collapsed": false
   },
   "outputs": [
    {
     "data": {
      "text/plain": [
       "array([[ 4.,  4.,  4.],\n",
       "       [ 4.,  4.,  4.]])"
      ]
     },
     "execution_count": 41,
     "metadata": {},
     "output_type": "execute_result"
    }
   ],
   "source": [
    "theano.function([],((x+2)**2))()"
   ]
  },
  {
   "cell_type": "markdown",
   "metadata": {},
   "source": [
    "## updates"
   ]
  },
  {
   "cell_type": "code",
   "execution_count": 42,
   "metadata": {
    "collapsed": true
   },
   "outputs": [],
   "source": [
    "count = theano.shared(0)\n",
    "new_count = count + 1 \n",
    "updates = {count :  new_count}"
   ]
  },
  {
   "cell_type": "code",
   "execution_count": 49,
   "metadata": {
    "collapsed": false
   },
   "outputs": [],
   "source": [
    "h = theano.function([],count,updates=updates)"
   ]
  },
  {
   "cell_type": "code",
   "execution_count": 50,
   "metadata": {
    "collapsed": false
   },
   "outputs": [
    {
     "data": {
      "text/plain": [
       "array(1)"
      ]
     },
     "execution_count": 50,
     "metadata": {},
     "output_type": "execute_result"
    }
   ],
   "source": [
    "h()"
   ]
  },
  {
   "cell_type": "code",
   "execution_count": 52,
   "metadata": {
    "collapsed": false
   },
   "outputs": [
    {
     "data": {
      "text/plain": [
       "array(2)"
      ]
     },
     "execution_count": 52,
     "metadata": {},
     "output_type": "execute_result"
    }
   ],
   "source": [
    "h()"
   ]
  },
  {
   "cell_type": "code",
   "execution_count": 53,
   "metadata": {
    "collapsed": false
   },
   "outputs": [
    {
     "data": {
      "text/plain": [
       "array(3)"
      ]
     },
     "execution_count": 53,
     "metadata": {},
     "output_type": "execute_result"
    }
   ],
   "source": [
    "h()"
   ]
  },
  {
   "cell_type": "code",
   "execution_count": null,
   "metadata": {
    "collapsed": true
   },
   "outputs": [],
   "source": []
  }
 ],
 "metadata": {
  "kernelspec": {
   "display_name": "Python 2",
   "language": "python",
   "name": "python2"
  },
  "language_info": {
   "codemirror_mode": {
    "name": "ipython",
    "version": 2
   },
   "file_extension": ".py",
   "mimetype": "text/x-python",
   "name": "python",
   "nbconvert_exporter": "python",
   "pygments_lexer": "ipython2",
   "version": "2.7.9"
  }
 },
 "nbformat": 4,
 "nbformat_minor": 0
}
